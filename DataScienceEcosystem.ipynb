{
 "cells": [
  {
   "cell_type": "markdown",
   "id": "9ad9b904",
   "metadata": {},
   "source": [
    "# Data Science Tools and Ecosystem"
   ]
  },
  {
   "cell_type": "markdown",
   "id": "84492846",
   "metadata": {},
   "source": [
    "In this notebook, Data Science Tools and Ecosystem are summarized."
   ]
  },
  {
   "cell_type": "markdown",
   "id": "74ca4a19",
   "metadata": {},
   "source": [
    "**Objectives:**\n",
    "\n",
    "* Learn about and list popular languages for Data Science, such as Python, R, and SQL.\n",
    "* Learn about Data Science libraries, which are collections of functions and methods that allow you to perform many actions without writing the code.\n",
    "* Learn how to use APIs as well as data sets from both open and proprietary sources.\n",
    "* Gain hands-on experience in IDEs, such as JupyterLab and Notebooks, and RStudio.\n",
    "* Explore and understand the capabilities of GitHub."
   ]
  },
  {
   "cell_type": "markdown",
   "id": "fbcf07c2",
   "metadata": {},
   "source": [
    "Some of the popular languages that Data Scientists use are:\n",
    "    \n",
    "1. Python\n",
    "2. R\n",
    "3. SQL\n",
    "4. Java\n",
    "5. Scale"
   ]
  },
  {
   "cell_type": "markdown",
   "id": "6f8a071d",
   "metadata": {},
   "source": [
    "Some of the commonly used libraries used by Data Scientists include:\n",
    "    \n",
    "1. NumPy\n",
    "2. Pandas\n",
    "3. Matplotlib\n",
    "4. Scikit-learn\n",
    "5. TensorFlow\n",
    "6. PyTorch\n",
    "7. Vegas: A Scala library for data visualization"
   ]
  },
  {
   "cell_type": "markdown",
   "id": "5a495e71",
   "metadata": {},
   "source": [
    "| Data Science Tools |\n",
    "|:--------:|\n",
    "|  IBM Watson Studio   |\n",
    "|  RStudio   |\n",
    "|  Jupyter Notebooks   |"
   ]
  },
  {
   "cell_type": "markdown",
   "id": "13e534ab",
   "metadata": {},
   "source": [
    "### Below are a few examples of evaluating arithmetic expressions in Python"
   ]
  },
  {
   "cell_type": "code",
   "execution_count": 6,
   "id": "9e3db620",
   "metadata": {},
   "outputs": [
    {
     "data": {
      "text/plain": [
       "17"
      ]
     },
     "execution_count": 6,
     "metadata": {},
     "output_type": "execute_result"
    }
   ],
   "source": [
    "# This a simple arithmetic expression to mutiply then add integers\n",
    "(3*4)+5"
   ]
  },
  {
   "cell_type": "code",
   "execution_count": 4,
   "id": "d47d6f36",
   "metadata": {},
   "outputs": [
    {
     "data": {
      "text/plain": [
       "3.3333333333333335"
      ]
     },
     "execution_count": 4,
     "metadata": {},
     "output_type": "execute_result"
    }
   ],
   "source": [
    "# This will convert 200 minutes to hours by diving by 60\n",
    "(200/60)"
   ]
  },
  {
   "cell_type": "markdown",
   "id": "790e4824",
   "metadata": {},
   "source": [
    "## Author\n",
    "Andrew DePietro"
   ]
  },
  {
   "cell_type": "code",
   "execution_count": null,
   "id": "84e5c0be",
   "metadata": {},
   "outputs": [],
   "source": []
  }
 ],
 "metadata": {
  "kernelspec": {
   "display_name": "Python 3 (ipykernel)",
   "language": "python",
   "name": "python3"
  },
  "language_info": {
   "codemirror_mode": {
    "name": "ipython",
    "version": 3
   },
   "file_extension": ".py",
   "mimetype": "text/x-python",
   "name": "python",
   "nbconvert_exporter": "python",
   "pygments_lexer": "ipython3",
   "version": "3.11.5"
  }
 },
 "nbformat": 4,
 "nbformat_minor": 5
}
